{
  "cells": [
    {
      "cell_type": "code",
      "execution_count": null,
      "metadata": {
        "colab": {
          "base_uri": "https://localhost:8080/"
        },
        "id": "P9Y06iZkNxow",
        "outputId": "4ae376fb-f288-4ea2-cb6e-1810458582f8"
      },
      "outputs": [
        {
          "name": "stdout",
          "output_type": "stream",
          "text": [
            "olleH\n"
          ]
        }
      ],
      "source": [
        "#1. Write code to reverse a string.\n",
        "String = \"Hello\"\n",
        "print(String[::-1])"
      ]
    },
    {
      "cell_type": "code",
      "execution_count": null,
      "metadata": {
        "colab": {
          "base_uri": "https://localhost:8080/"
        },
        "id": "3lE2JYF1OSCI",
        "outputId": "95220323-0688-42fe-aa03-681102deb008"
      },
      "outputs": [
        {
          "name": "stdout",
          "output_type": "stream",
          "text": [
            "3\n"
          ]
        }
      ],
      "source": [
        "#2. Write code to count the number of vowels in a string.\n",
        "String = \"Hello World\"\n",
        "cnt = 0\n",
        "vowels = \"aeiouAEIOU\"\n",
        "for s in String:\n",
        "  if s in vowels:\n",
        "    cnt = cnt+1\n",
        "print(cnt)"
      ]
    },
    {
      "cell_type": "code",
      "execution_count": null,
      "metadata": {
        "colab": {
          "base_uri": "https://localhost:8080/"
        },
        "id": "yqX3cmrzOq6n",
        "outputId": "005be94e-9095-4757-fc5b-b1a7c5693987"
      },
      "outputs": [
        {
          "name": "stdout",
          "output_type": "stream",
          "text": [
            "True\n"
          ]
        }
      ],
      "source": [
        "#3. Write code to check if a given string is a palindrome or not.\n",
        "String = \"MADAM\"\n",
        "print(String == String[::-1])"
      ]
    },
    {
      "cell_type": "code",
      "execution_count": null,
      "metadata": {
        "colab": {
          "base_uri": "https://localhost:8080/"
        },
        "id": "dQRZDksxPIka",
        "outputId": "6a5ad6bc-6b98-42f1-b09b-51c14db6cc55"
      },
      "outputs": [
        {
          "name": "stdout",
          "output_type": "stream",
          "text": [
            "True\n"
          ]
        }
      ],
      "source": [
        "#4. Write code to check if two given strings are anagrams of each other.\n",
        "String1 = \"listen\"\n",
        "String2 = \"silent\"\n",
        "print(sorted(String1) == sorted(String2))"
      ]
    },
    {
      "cell_type": "code",
      "execution_count": null,
      "metadata": {
        "colab": {
          "base_uri": "https://localhost:8080/"
        },
        "id": "sK6Nqr7CPYOK",
        "outputId": "9df71fbf-2031-4f31-db3e-1a68e70f5ad3"
      },
      "outputs": [
        {
          "name": "stdout",
          "output_type": "stream",
          "text": [
            "[3, 6]\n"
          ]
        }
      ],
      "source": [
        "#5. Write code to find all occurrences of a given substring within another string.\n",
        "String1 = \"abaabcabc\"\n",
        "String2 = \"abc\"\n",
        "\n",
        "print([i for i in range(len(String1)) if String1.startswith(String2, i)])"
      ]
    },
    {
      "cell_type": "code",
      "execution_count": null,
      "metadata": {
        "colab": {
          "base_uri": "https://localhost:8080/"
        },
        "id": "7HRhjC6aPqvR",
        "outputId": "2737d10c-f991-4c92-88ba-e00ad21d2b31"
      },
      "outputs": [
        {
          "name": "stdout",
          "output_type": "stream",
          "text": [
            "a3b2c1\n"
          ]
        }
      ],
      "source": [
        "#6. Write code to perform basic string compression using the counts of repeated characters.\n",
        "def compress_string(s):\n",
        "    compressed = []\n",
        "    count = 1\n",
        "\n",
        "    for i in range(1, len(s)):\n",
        "        if s[i] == s[i - 1]:\n",
        "            count += 1\n",
        "        else:\n",
        "            compressed.append(s[i - 1] + str(count))\n",
        "            count = 1\n",
        "\n",
        "    compressed.append(s[-1] + str(count))  # Add last group\n",
        "    return ''.join(compressed)\n",
        "\n",
        "String1 = \"aaabbc\"\n",
        "print(compress_string(String1))\n"
      ]
    },
    {
      "cell_type": "code",
      "execution_count": null,
      "metadata": {
        "colab": {
          "base_uri": "https://localhost:8080/"
        },
        "id": "TY0pstoTQO38",
        "outputId": "0f62104b-b5ed-47d2-f1cd-ccf0eac1bac5"
      },
      "outputs": [
        {
          "name": "stdout",
          "output_type": "stream",
          "text": [
            "True\n"
          ]
        }
      ],
      "source": [
        "#7. Write code to determine if a string has all unique characters.\n",
        "def has_unique_characters(s):\n",
        "    return len(set(s)) == len(s)\n",
        "\n",
        "\n",
        "String1 = \"abcdef\"\n",
        "print(has_unique_characters(String1))\n"
      ]
    },
    {
      "cell_type": "code",
      "execution_count": null,
      "metadata": {
        "colab": {
          "base_uri": "https://localhost:8080/"
        },
        "id": "uf_-bIkeQlUk",
        "outputId": "4e8f0410-c75a-4863-8051-b71a6f19db7a"
      },
      "outputs": [
        {
          "name": "stdout",
          "output_type": "stream",
          "text": [
            "HELLO WORLD\n",
            "hello world\n"
          ]
        }
      ],
      "source": [
        "#8. Write code to convert a given string to uppercase or lowercase.\n",
        "def convert_case(s, to_upper):\n",
        "    return s.upper() if to_upper else s.lower()\n",
        "\n",
        "\n",
        "String1 = \"Hello World\"\n",
        "print(convert_case(String1, to_upper=True))\n",
        "print(convert_case(String1, to_upper=False))\n"
      ]
    },
    {
      "cell_type": "code",
      "execution_count": null,
      "metadata": {
        "colab": {
          "base_uri": "https://localhost:8080/"
        },
        "id": "b7Iz0C2XQx9d",
        "outputId": "966722db-be7d-4e19-d7e7-5ca1230604b3"
      },
      "outputs": [
        {
          "name": "stdout",
          "output_type": "stream",
          "text": [
            "2\n"
          ]
        }
      ],
      "source": [
        "#9. Write code to count the number of words in a string.\n",
        "def count_words(s):\n",
        "    return len(s.split())\n",
        "\n",
        "\n",
        "String1 = \"Hello World\"\n",
        "print(count_words(String1))\n"
      ]
    },
    {
      "cell_type": "code",
      "execution_count": null,
      "metadata": {
        "colab": {
          "base_uri": "https://localhost:8080/"
        },
        "id": "jsmo7aFNRk7U",
        "outputId": "3ea0e127-5a8f-424c-f2b1-32d05f14795d"
      },
      "outputs": [
        {
          "name": "stdout",
          "output_type": "stream",
          "text": [
            "HelloWorld\n"
          ]
        }
      ],
      "source": [
        "#10. Write code to concatenate two strings without using the `+` operator.\n",
        "def concatenate_strings(s1, s2):\n",
        "    return ''.join([s1, s2])\n",
        "\n",
        "string1 = \"Hello\"\n",
        "string2 = \"World\"\n",
        "print(concatenate_strings(string1, string2))\n"
      ]
    },
    {
      "cell_type": "code",
      "execution_count": null,
      "metadata": {
        "colab": {
          "base_uri": "https://localhost:8080/"
        },
        "id": "8gQ0wqJ8RvcB",
        "outputId": "eef155e4-b54d-41be-8dc1-637edec49d31"
      },
      "outputs": [
        {
          "name": "stdout",
          "output_type": "stream",
          "text": [
            "[1, 3, 4]\n"
          ]
        }
      ],
      "source": [
        "#11. Write code to remove all occurrences of a specific element from a list.\n",
        "def remove_occurrences(lst, element):\n",
        "    return [item for item in lst if item != element]\n",
        "\n",
        "my_list = [1, 2, 3, 2, 4, 2]\n",
        "result = remove_occurrences(my_list, 2)\n",
        "print(result)\n"
      ]
    },
    {
      "cell_type": "code",
      "execution_count": null,
      "metadata": {
        "colab": {
          "base_uri": "https://localhost:8080/"
        },
        "id": "3ZF5wKp3SGt1",
        "outputId": "551d841b-6fb5-473c-959e-ebd198aa3d05"
      },
      "outputs": [
        {
          "name": "stdout",
          "output_type": "stream",
          "text": [
            "45\n"
          ]
        }
      ],
      "source": [
        "#12. Implement code to find the second largest number in a given list of integers.\n",
        "def second_largest(lst):\n",
        "    unique_numbers = list(set(lst))\n",
        "    unique_numbers.sort()\n",
        "    return unique_numbers[-2]\n",
        "\n",
        "my_list = [10, 20, 4, 45, 99]\n",
        "result = second_largest(my_list)\n",
        "print(result)\n"
      ]
    },
    {
      "cell_type": "code",
      "execution_count": null,
      "metadata": {
        "colab": {
          "base_uri": "https://localhost:8080/"
        },
        "id": "x_8ni5cMSOUa",
        "outputId": "41e1fe22-4f44-45a0-ec60-67a886a4f16b"
      },
      "outputs": [
        {
          "name": "stdout",
          "output_type": "stream",
          "text": [
            "{1: 1, 2: 2, 3: 3}\n"
          ]
        }
      ],
      "source": [
        "#13. Create code to count the occurrences of each element in a list and return a dictionary with elements as keys and their counts as values.\n",
        "def count_occurrences(lst):\n",
        "    return {item: lst.count(item) for item in set(lst)}\n",
        "\n",
        "my_list = [1, 2, 2, 3, 3, 3]\n",
        "result = count_occurrences(my_list)\n",
        "print(result)\n"
      ]
    },
    {
      "cell_type": "code",
      "execution_count": null,
      "metadata": {
        "colab": {
          "base_uri": "https://localhost:8080/"
        },
        "id": "pSOCo3IkShs2",
        "outputId": "4139e661-933d-4323-9a69-186407bf87c4"
      },
      "outputs": [
        {
          "name": "stdout",
          "output_type": "stream",
          "text": [
            "[5, 4, 3, 2, 1]\n"
          ]
        }
      ],
      "source": [
        "#14. Write code to reverse a list in-place without using any built-in reverse functions.\n",
        "def reverse_list_in_place(lst):\n",
        "    left, right = 0, len(lst) - 1\n",
        "    while left < right:\n",
        "        lst[left], lst[right] = lst[right], lst[left]\n",
        "        left += 1\n",
        "        right -= 1\n",
        "\n",
        "my_list = [1, 2, 3, 4, 5]\n",
        "reverse_list_in_place(my_list)\n",
        "print(my_list)\n"
      ]
    },
    {
      "cell_type": "code",
      "execution_count": null,
      "metadata": {
        "colab": {
          "base_uri": "https://localhost:8080/"
        },
        "id": "l1DD4CybSpwi",
        "outputId": "868ac663-2b0d-437c-88fe-45934ae64c4b"
      },
      "outputs": [
        {
          "name": "stdout",
          "output_type": "stream",
          "text": [
            "[1, 2, 3, 4, 5]\n"
          ]
        }
      ],
      "source": [
        "#15. Implement code to find and remove duplicates from a list while preserving the original order of elements.\n",
        "def remove_duplicates(lst):\n",
        "    seen = set()\n",
        "    return [x for x in lst if not (x in seen or seen.add(x))]\n",
        "\n",
        "my_list = [1, 2, 2, 3, 4, 4, 5]\n",
        "result = remove_duplicates(my_list)\n",
        "print(result)\n"
      ]
    },
    {
      "cell_type": "code",
      "execution_count": null,
      "metadata": {
        "colab": {
          "background_save": true,
          "base_uri": "https://localhost:8080/"
        },
        "id": "4A0PlmUmSvF7",
        "outputId": "5337bc37-914e-4c69-be80-5d1b1ab4eb8c"
      },
      "outputs": [
        {
          "name": "stdout",
          "output_type": "stream",
          "text": [
            "True\n"
          ]
        }
      ],
      "source": [
        "#16. Create code to check if a given list is sorted (either in ascending or descending order) or not.\n",
        "def is_sorted(lst):\n",
        "    return lst == sorted(lst) or lst == sorted(lst, reverse=True)\n",
        "\n",
        "my_list = [1, 2, 3, 4]\n",
        "result = is_sorted(my_list)\n",
        "print(result)\n"
      ]
    },
    {
      "cell_type": "code",
      "execution_count": 20,
      "metadata": {
        "id": "XJ4Y7YVrS-4q",
        "colab": {
          "base_uri": "https://localhost:8080/"
        },
        "outputId": "ace681ef-1838-4dbc-d7e3-41f063a7ae4c"
      },
      "outputs": [
        {
          "output_type": "stream",
          "name": "stdout",
          "text": [
            "[1, 2, 3, 4, 5, 6]\n"
          ]
        }
      ],
      "source": [
        "#17. Write code to merge two sorted lists into a single sorted list.\n",
        "def merge_sorted_lists(list1, list2):\n",
        "    return sorted(list1 + list2)\n",
        "\n",
        "list1 = [1, 3, 5]\n",
        "list2 = [2, 4, 6]\n",
        "result = merge_sorted_lists(list1, list2)\n",
        "print(result)\n"
      ]
    },
    {
      "cell_type": "code",
      "execution_count": 21,
      "metadata": {
        "id": "Qglt7AXtTLhZ",
        "colab": {
          "base_uri": "https://localhost:8080/"
        },
        "outputId": "d1bd895f-1e17-4989-9342-ba0b0b89625f"
      },
      "outputs": [
        {
          "output_type": "stream",
          "name": "stdout",
          "text": [
            "[2, 3]\n"
          ]
        }
      ],
      "source": [
        "#18. Implement code to find the intersection of two given lists.\n",
        "def intersection(list1, list2):\n",
        "    return list(set(list1) & set(list2))\n",
        "\n",
        "list1 = [1, 2, 3]\n",
        "list2 = [2, 3, 4]\n",
        "result = intersection(list1, list2)\n",
        "print(result)\n"
      ]
    },
    {
      "cell_type": "code",
      "source": [
        "#19. Create code to find the union of two lists without duplicates.\n",
        "def union(list1, list2):\n",
        "    return list(set(list1) | set(list2))\n",
        "\n",
        "list1 = [1, 2, 3]\n",
        "list2 = [3, 4, 5]\n",
        "result = union(list1, list2)\n",
        "print(result)\n"
      ],
      "metadata": {
        "colab": {
          "base_uri": "https://localhost:8080/"
        },
        "id": "ZFlVPAQMTb5d",
        "outputId": "d108bc0f-baaa-4fcc-d0f3-b631a5254369"
      },
      "execution_count": 22,
      "outputs": [
        {
          "output_type": "stream",
          "name": "stdout",
          "text": [
            "[1, 2, 3, 4, 5]\n"
          ]
        }
      ]
    },
    {
      "cell_type": "code",
      "source": [
        "#20. Write code to shuffle a given list randomly without using any built-in shuffle function.\n",
        "import random\n",
        "\n",
        "def shuffle_list(lst):\n",
        "    for i in range(len(lst)):\n",
        "        rand_index = random.randint(0, len(lst) - 1)\n",
        "        lst[i], lst[rand_index] = lst[rand_index], lst[i]\n",
        "    return lst\n",
        "\n",
        "my_list = [1, 2, 3, 4, 5]\n",
        "result = shuffle_list(my_list)\n",
        "print(result)\n"
      ],
      "metadata": {
        "colab": {
          "base_uri": "https://localhost:8080/"
        },
        "id": "PFtsZ_DeTlo3",
        "outputId": "2b4ad2b2-493e-47de-a701-92d4e99f9239"
      },
      "execution_count": 23,
      "outputs": [
        {
          "output_type": "stream",
          "name": "stdout",
          "text": [
            "[3, 1, 2, 4, 5]\n"
          ]
        }
      ]
    },
    {
      "cell_type": "code",
      "source": [
        "#21. Write code that takes two tuples as input and returns a new tuple containing elements that are common to both input tuples.\n",
        "def common_elements(t1, t2):\n",
        "    return tuple(set(t1).intersection(t2))\n",
        "\n",
        "t1 = (1, 2, 3, 4)\n",
        "t2 = (3, 4, 5, 6)\n",
        "print(common_elements(t1, t2))\n"
      ],
      "metadata": {
        "colab": {
          "base_uri": "https://localhost:8080/"
        },
        "id": "g6jKs4rJTuWg",
        "outputId": "ca0411bd-dca1-47d7-8cd3-06d4f212d6c3"
      },
      "execution_count": 24,
      "outputs": [
        {
          "output_type": "stream",
          "name": "stdout",
          "text": [
            "(3, 4)\n"
          ]
        }
      ]
    },
    {
      "cell_type": "code",
      "source": [
        "#22. Create code that prompts the user to enter two sets of integers separated by commas, then print the intersection of these two sets.\n",
        "s1 = set(map(int, input(\"Enter first set of integers (comma-separated): \").split(',')))\n",
        "s2 = set(map(int, input(\"Enter second set of integers (comma-separated): \").split(',')))\n",
        "print(s1.intersection(s2))"
      ],
      "metadata": {
        "colab": {
          "base_uri": "https://localhost:8080/"
        },
        "id": "CgIpJNnLT8mF",
        "outputId": "b9f162a2-578e-47b0-a535-26d420ea7081"
      },
      "execution_count": 26,
      "outputs": [
        {
          "output_type": "stream",
          "name": "stdout",
          "text": [
            "Enter first set of integers (comma-separated): 1,2,3\n",
            "Enter second set of integers (comma-separated): 4,5,6\n",
            "set()\n"
          ]
        }
      ]
    },
    {
      "cell_type": "code",
      "source": [
        "#23. Write code to concatenate two tuples. The function should take two tuples as input and return a new tuple containing elements from both input tuples.\n",
        "def concatenate_tuples(t1, t2):\n",
        "    return t1 + t2\n",
        "\n",
        "t1 = (1, 2, 3)\n",
        "t2 = (4, 5, 6)\n",
        "print(concatenate_tuples(t1, t2))\n"
      ],
      "metadata": {
        "colab": {
          "base_uri": "https://localhost:8080/"
        },
        "id": "tWXtqfcaVPuo",
        "outputId": "9b38a13a-36fd-476d-d6de-488c856a4360"
      },
      "execution_count": 27,
      "outputs": [
        {
          "output_type": "stream",
          "name": "stdout",
          "text": [
            "(1, 2, 3, 4, 5, 6)\n"
          ]
        }
      ]
    },
    {
      "cell_type": "code",
      "source": [
        "#24. Develop code that prompts the user to input two sets of strings, then print the elements that are present in the first set but not in the second set.\n",
        "s1 = set(input(\"Enter first set of strings (comma-separated): \").split(','))\n",
        "s2 = set(input(\"Enter second set of strings (comma-separated): \").split(','))\n",
        "print(s1 - s2)\n"
      ],
      "metadata": {
        "colab": {
          "base_uri": "https://localhost:8080/"
        },
        "id": "zxwAz0BwVoLk",
        "outputId": "59d6e49c-0235-45da-e52a-f08150d4c0d9"
      },
      "execution_count": 29,
      "outputs": [
        {
          "output_type": "stream",
          "name": "stdout",
          "text": [
            "Enter first set of strings (comma-separated): 1,2,3,4,5\n",
            "Enter second set of strings (comma-separated): 4,5,6,7,8\n",
            "{'3', '1', '2'}\n"
          ]
        }
      ]
    },
    {
      "cell_type": "code",
      "source": [
        "#25. Create a code that takes a tuple and two integers as input. The function should return a new tuple containing elements from the original tuple within the specified range of indices.\n",
        "def slice_tuple(t, start, end):\n",
        "    return t[start:end]\n",
        "\n",
        "t = (1, 2, 3, 4, 5, 6)\n",
        "print(slice_tuple(t, 1, 4))\n"
      ],
      "metadata": {
        "colab": {
          "base_uri": "https://localhost:8080/"
        },
        "id": "tjr1biw7VqBZ",
        "outputId": "ab916780-e060-4683-e54e-58ce67083352"
      },
      "execution_count": 30,
      "outputs": [
        {
          "output_type": "stream",
          "name": "stdout",
          "text": [
            "(2, 3, 4)\n"
          ]
        }
      ]
    },
    {
      "cell_type": "code",
      "source": [
        "#26. Write code that prompts the user to input two sets of characters, then print the union of these two sets.\n",
        "s1 = set(input(\"Enter first set of characters: \"))\n",
        "s2 = set(input(\"Enter second set of characters: \"))\n",
        "print(s1.union(s2))\n"
      ],
      "metadata": {
        "colab": {
          "base_uri": "https://localhost:8080/"
        },
        "id": "xPuwYUWFVrRD",
        "outputId": "84a5990f-d2a2-44ec-e876-6d19c913ccaa"
      },
      "execution_count": 31,
      "outputs": [
        {
          "output_type": "stream",
          "name": "stdout",
          "text": [
            "Enter first set of characters: Hello\n",
            "Enter second set of characters: World\n",
            "{'o', 'r', 'e', 'l', 'd', 'W', 'H'}\n"
          ]
        }
      ]
    },
    {
      "cell_type": "code",
      "source": [
        "#27. Develop code that takes a tuple of integers as input. The function should return the maximum and minimum values from the tuple using tuple unpacking.\n",
        "def min_max(t):\n",
        "    return min(t), max(t)\n",
        "\n",
        "t = (3, 1, 4, 5, 9, 2)\n",
        "print(min_max(t))\n"
      ],
      "metadata": {
        "colab": {
          "base_uri": "https://localhost:8080/"
        },
        "id": "8-YwD3ytVs-c",
        "outputId": "5351a2c9-74ff-4d5a-fef3-e2743b10c99a"
      },
      "execution_count": 32,
      "outputs": [
        {
          "output_type": "stream",
          "name": "stdout",
          "text": [
            "(1, 9)\n"
          ]
        }
      ]
    },
    {
      "cell_type": "code",
      "source": [
        "#28. Create a code that defines two sets of integers, then print the union, intersection, and difference of these two sets.\n",
        "s1 = {1, 2, 3, 4}\n",
        "s2 = {3, 4, 5, 6}\n",
        "print(s1.union(s2))\n",
        "print(s1.intersection(s2))\n",
        "print(s1.difference(s2))\n"
      ],
      "metadata": {
        "colab": {
          "base_uri": "https://localhost:8080/"
        },
        "id": "qEwlii8oVuYe",
        "outputId": "fe27199f-a134-45d0-938d-79a5d4f13e80"
      },
      "execution_count": 33,
      "outputs": [
        {
          "output_type": "stream",
          "name": "stdout",
          "text": [
            "{1, 2, 3, 4, 5, 6}\n",
            "{3, 4}\n",
            "{1, 2}\n"
          ]
        }
      ]
    },
    {
      "cell_type": "code",
      "source": [
        "#29. Write code that takes a tuple and an element as input. The function should return the count of occurrences of the given element in the tuple.\n",
        "def count_element(t, element):\n",
        "    return t.count(element)\n",
        "\n",
        "t = (1, 2, 3, 2, 2, 4)\n",
        "element = 2\n",
        "print(count_element(t, element))\n"
      ],
      "metadata": {
        "colab": {
          "base_uri": "https://localhost:8080/"
        },
        "id": "YozHrWsZVvrF",
        "outputId": "65b6b449-13d9-4181-991a-4967389e05a7"
      },
      "execution_count": 34,
      "outputs": [
        {
          "output_type": "stream",
          "name": "stdout",
          "text": [
            "3\n"
          ]
        }
      ]
    },
    {
      "cell_type": "code",
      "source": [
        "#30. Develop code that prompts the user to input two sets of strings, then print the symmetric difference of these two sets.\n",
        "s1 = set(input(\"Enter first set of strings (comma-separated): \").split(','))\n",
        "s2 = set(input(\"Enter second set of strings (comma-separated): \").split(','))\n",
        "print(s1.symmetric_difference(s2))\n"
      ],
      "metadata": {
        "colab": {
          "base_uri": "https://localhost:8080/"
        },
        "id": "1_aeu4rCVw9J",
        "outputId": "983adb88-6656-4acb-840b-f8b84b3b9698"
      },
      "execution_count": 36,
      "outputs": [
        {
          "output_type": "stream",
          "name": "stdout",
          "text": [
            "Enter first set of strings (comma-separated): 1,2,3,4,5\n",
            "Enter second set of strings (comma-separated): 4,5,6,7,8,9\n",
            "{'8', '1', '3', '7', '2', '9', '6'}\n"
          ]
        }
      ]
    },
    {
      "cell_type": "code",
      "source": [
        "#31. Write code that takes a list of words as input and returns a dictionary where the keys are unique words and the values are the frequencies of those words in the input list.\n",
        "def word_frequencies(words):\n",
        "    return {word: words.count(word) for word in set(words)}\n",
        "\n",
        "words = ['apple', 'banana', 'apple', 'orange', 'banana', 'apple']\n",
        "print(word_frequencies(words))\n"
      ],
      "metadata": {
        "colab": {
          "base_uri": "https://localhost:8080/"
        },
        "id": "SiG6pilrVyLd",
        "outputId": "685a132c-0027-4a8b-d877-84ff1b526e93"
      },
      "execution_count": 37,
      "outputs": [
        {
          "output_type": "stream",
          "name": "stdout",
          "text": [
            "{'orange': 1, 'banana': 2, 'apple': 3}\n"
          ]
        }
      ]
    },
    {
      "cell_type": "code",
      "source": [
        "#32. Write code that takes two dictionaries as input and merges them into a single dictionary. If there are common keys, the values should be added together.\n",
        "def merge_dicts(d1, d2):\n",
        "    merged = {key: d1.get(key, 0) + d2.get(key, 0) for key in set(d1) | set(d2)}\n",
        "    return merged\n",
        "\n",
        "d1 = {'a': 1, 'b': 2}\n",
        "d2 = {'b': 3, 'c': 4}\n",
        "print(merge_dicts(d1, d2))\n"
      ],
      "metadata": {
        "colab": {
          "base_uri": "https://localhost:8080/"
        },
        "id": "n9jbt2g1Vza_",
        "outputId": "ddb54bc7-15a4-435b-9624-5fe963ebbe49"
      },
      "execution_count": 38,
      "outputs": [
        {
          "output_type": "stream",
          "name": "stdout",
          "text": [
            "{'a': 1, 'c': 4, 'b': 5}\n"
          ]
        }
      ]
    },
    {
      "cell_type": "code",
      "source": [
        "#33. Write code to access a value in a nested dictionary. The function should take the dictionary and a list of keys as input and return the corresponding value. If any of the keys do not exist in the dictionary, the function should return None.\n",
        "def get_nested_value(d, keys):\n",
        "    for key in keys:\n",
        "        if isinstance(d, dict):\n",
        "            d = d.get(key)\n",
        "        else:\n",
        "            return None\n",
        "    return d\n",
        "\n",
        "nested_dict = {'a': {'b': {'c': 42}}}\n",
        "keys = ['a', 'b', 'c']\n",
        "print(get_nested_value(nested_dict, keys))\n"
      ],
      "metadata": {
        "colab": {
          "base_uri": "https://localhost:8080/"
        },
        "id": "usXgtIV2V04D",
        "outputId": "1ee6f768-533e-45fa-8fa4-c59fbb8489f6"
      },
      "execution_count": 39,
      "outputs": [
        {
          "output_type": "stream",
          "name": "stdout",
          "text": [
            "42\n"
          ]
        }
      ]
    },
    {
      "cell_type": "code",
      "source": [
        "#34. Write code that takes a dictionary as input and returns a sorted version of it based on the values. You can choose whether to sort in ascending or descending order.\n",
        "\n",
        "def sort_dict_by_value(d, ascending=True):\n",
        "    return dict(sorted(d.items(), key=lambda item: item[1], reverse=not ascending))\n",
        "\n",
        "d = {'a': 3, 'b': 1, 'c': 2}\n",
        "print(sort_dict_by_value(d, ascending=True))\n"
      ],
      "metadata": {
        "colab": {
          "base_uri": "https://localhost:8080/"
        },
        "id": "85rdiOMvV15y",
        "outputId": "aa69df4f-9e50-41f1-d660-97471ffe060a"
      },
      "execution_count": 40,
      "outputs": [
        {
          "output_type": "stream",
          "name": "stdout",
          "text": [
            "{'b': 1, 'c': 2, 'a': 3}\n"
          ]
        }
      ]
    },
    {
      "cell_type": "code",
      "source": [
        "#35. Write code that inverts a dictionary, swapping keys and values. Ensure that the inverted dictionary correctly handles cases where multiple keys have the same value by storing the keys as a list in the inverted dictionary.\n",
        "def invert_dict(d):\n",
        "    inverted = {}\n",
        "    for key, value in d.items():\n",
        "        inverted.setdefault(value, []).append(key)\n",
        "    return inverted\n",
        "\n",
        "d = {'a': 1, 'b': 2, 'c': 1}\n",
        "print(invert_dict(d))\n"
      ],
      "metadata": {
        "colab": {
          "base_uri": "https://localhost:8080/"
        },
        "id": "4cz9KvgXV3qB",
        "outputId": "467cd8bb-e543-40ba-b32a-e62cd970f16b"
      },
      "execution_count": 41,
      "outputs": [
        {
          "output_type": "stream",
          "name": "stdout",
          "text": [
            "{1: ['a', 'c'], 2: ['b']}\n"
          ]
        }
      ]
    }
  ],
  "metadata": {
    "colab": {
      "provenance": []
    },
    "kernelspec": {
      "display_name": "Python 3",
      "name": "python3"
    },
    "language_info": {
      "name": "python"
    }
  },
  "nbformat": 4,
  "nbformat_minor": 0
}